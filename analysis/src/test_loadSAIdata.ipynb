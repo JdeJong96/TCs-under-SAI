{
 "cells": [
  {
   "cell_type": "markdown",
   "id": "d373ca95-cc34-4113-822e-e3f42b5eabcc",
   "metadata": {},
   "source": [
    "TO DO: run again\n",
    "With new changes made to load_SAIdata (manual fix for excluding the last files of hres.cnt mems 2,4,5 for h1 and h2), the next cells should run fine!"
   ]
  },
  {
   "cell_type": "code",
   "execution_count": 1,
   "id": "1167c9b0-c0c4-454a-aa2c-5ee5b76cd906",
   "metadata": {},
   "outputs": [],
   "source": [
    "import json\n",
    "import os\n",
    "import glob\n",
    "import re\n",
    "import multiprocessing\n",
    "from kerchunk.netCDF3 import NetCDF3ToZarr\n",
    "from kerchunk.combine import MultiZarrToZarr\n",
    "import numpy as np\n",
    "import dask.bag\n",
    "import xarray as xr\n",
    "from load_SAIdata import Cases"
   ]
  },
  {
   "cell_type": "code",
   "execution_count": 81,
   "id": "a0b66645-a7b5-4c48-aa0f-80cf91ef1559",
   "metadata": {},
   "outputs": [],
   "source": [
    "os.remove('/home/jasperdj/kerchunk/b.e10.B_RCP8.5_CO2_CAM5.f02_t12.started_2092-12.002.cam2.h1.2092-12-01-10800_2098-01-10-10800.json')"
   ]
  },
  {
   "cell_type": "code",
   "execution_count": 3,
   "id": "837418dc-3a23-4834-a870-c30167be678d",
   "metadata": {},
   "outputs": [
    {
     "name": "stdout",
     "output_type": "stream",
     "text": [
      "Writing combined kerchunk reference file /home/jasperdj/kerchunk/b.e10.B_RCP8.5_CO2_CAM5.f02_t12.started_2092-12.002.cam2.h1.2092-12-01-10800_2098-01-10-10800.json\n"
     ]
    },
    {
     "name": "stderr",
     "output_type": "stream",
     "text": [
      "Process Process-2:\n",
      "Traceback (most recent call last):\n",
      "  File \"/home/jasperdj/miniconda3/envs/geo/lib/python3.12/multiprocessing/process.py\", line 314, in _bootstrap\n",
      "    self.run()\n",
      "  File \"/home/jasperdj/miniconda3/envs/geo/lib/python3.12/multiprocessing/process.py\", line 108, in run\n",
      "    self._target(*self._args, **self._kwargs)\n",
      "  File \"/scratch-local/jasperdj.11985533/ipykernel_1563086/3259750319.py\", line 2, in load_data1\n",
      "    ds = Cases('hres.cnt.2').select('atm','h1').open_mfdataset()\n",
      "         ^^^^^^^^^^^^^^^^^^^^^^^^^^^^^^^^^^^^^^^^^^^^^^^^^^^^^^^\n",
      "  File \"/gpfs/home2/jasperdj/TCs-under-SAI/analysis/src/load_SAIdata.py\", line 185, in open_mfdataset\n",
      "    return open_mfdataset(self.files, *args, **kwargs)\n",
      "           ^^^^^^^^^^^^^^^^^^^^^^^^^^^^^^^^^^^^^^^^^^^\n",
      "  File \"/gpfs/home2/jasperdj/TCs-under-SAI/analysis/src/load_SAIdata.py\", line 80, in open_mfdataset\n",
      "    f.write(json.dumps(mzz.translate()).encode())\n",
      "                       ^^^^^^^^^^^^^^^\n",
      "  File \"/home/jasperdj/miniconda3/envs/geo/lib/python3.12/site-packages/kerchunk/combine.py\", line 649, in translate\n",
      "    self.second_pass()\n",
      "  File \"/home/jasperdj/miniconda3/envs/geo/lib/python3.12/site-packages/kerchunk/combine.py\", line 508, in second_pass\n",
      "    cv = tuple(sorted(set(cv)))[0]\n",
      "         ~~~~~~~~~~~~~~~~~~~~~~^^^\n",
      "IndexError: tuple index out of range\n"
     ]
    }
   ],
   "source": [
    "def load_data1():        \n",
    "    ds = Cases('hres.cnt.2').select('atm','h1').open_mfdataset()\n",
    "    ds.close()\n",
    "\n",
    "proc1 = multiprocessing.Process(target=load_data1)\n",
    "proc1.start()"
   ]
  },
  {
   "cell_type": "code",
   "execution_count": 82,
   "id": "4ba3257b-4264-41a2-a983-c3ed3829f9db",
   "metadata": {},
   "outputs": [],
   "source": [
    "os.remove('/home/jasperdj/kerchunk/b.e10.B_RCP8.5_CO2_CAM5.f02_t12.started_2092-12.002.cam2.h2.2092-12-01-10800_2098-01-10-10800.json')"
   ]
  },
  {
   "cell_type": "code",
   "execution_count": 5,
   "id": "ee023a5d-e2c1-4e60-85c2-817abe1f326c",
   "metadata": {},
   "outputs": [
    {
     "name": "stdout",
     "output_type": "stream",
     "text": [
      "Writing combined kerchunk reference file /home/jasperdj/kerchunk/b.e10.B_RCP8.5_CO2_CAM5.f02_t12.started_2092-12.002.cam2.h2.2092-12-01-10800_2098-01-10-10800.json\n"
     ]
    },
    {
     "name": "stderr",
     "output_type": "stream",
     "text": [
      "Process Process-4:\n",
      "Traceback (most recent call last):\n",
      "  File \"/home/jasperdj/miniconda3/envs/geo/lib/python3.12/multiprocessing/process.py\", line 314, in _bootstrap\n",
      "    self.run()\n",
      "  File \"/home/jasperdj/miniconda3/envs/geo/lib/python3.12/multiprocessing/process.py\", line 108, in run\n",
      "    self._target(*self._args, **self._kwargs)\n",
      "  File \"/scratch-local/jasperdj.11985533/ipykernel_1563086/1394748276.py\", line 2, in load_data2\n",
      "    ds = Cases('hres.cnt.2').select('atm','h2').open_mfdataset()\n",
      "         ^^^^^^^^^^^^^^^^^^^^^^^^^^^^^^^^^^^^^^^^^^^^^^^^^^^^^^^\n",
      "  File \"/gpfs/home2/jasperdj/TCs-under-SAI/analysis/src/load_SAIdata.py\", line 185, in open_mfdataset\n",
      "    return open_mfdataset(self.files, *args, **kwargs)\n",
      "           ^^^^^^^^^^^^^^^^^^^^^^^^^^^^^^^^^^^^^^^^^^^\n",
      "  File \"/gpfs/home2/jasperdj/TCs-under-SAI/analysis/src/load_SAIdata.py\", line 80, in open_mfdataset\n",
      "    f.write(json.dumps(mzz.translate()).encode())\n",
      "                       ^^^^^^^^^^^^^^^\n",
      "  File \"/home/jasperdj/miniconda3/envs/geo/lib/python3.12/site-packages/kerchunk/combine.py\", line 649, in translate\n",
      "    self.second_pass()\n",
      "  File \"/home/jasperdj/miniconda3/envs/geo/lib/python3.12/site-packages/kerchunk/combine.py\", line 508, in second_pass\n",
      "    cv = tuple(sorted(set(cv)))[0]\n",
      "         ~~~~~~~~~~~~~~~~~~~~~~^^^\n",
      "IndexError: tuple index out of range\n"
     ]
    }
   ],
   "source": [
    "def load_data2():        \n",
    "    ds = Cases('hres.cnt.2').select('atm','h2').open_mfdataset()\n",
    "    ds.close()\n",
    "\n",
    "proc2 = multiprocessing.Process(target=load_data2)\n",
    "proc2.start()"
   ]
  },
  {
   "cell_type": "code",
   "execution_count": 83,
   "id": "00ae6608-8e99-4b09-b9dd-efbe3dd0db7e",
   "metadata": {},
   "outputs": [],
   "source": [
    "os.remove('/home/jasperdj/kerchunk/b.e10.B_RCP8.5_CO2_CAM5.f02_t12.started_2092-12.004.cam2.h1.2092-12-01-10800_2098-01-20-10800.json')"
   ]
  },
  {
   "cell_type": "code",
   "execution_count": 2,
   "id": "c69f0c4b-2bee-4a25-9db9-503afc2c06ff",
   "metadata": {},
   "outputs": [
    {
     "name": "stdout",
     "output_type": "stream",
     "text": [
      "Writing combined kerchunk reference file /home/jasperdj/kerchunk/b.e10.B_RCP8.5_CO2_CAM5.f02_t12.started_2092-12.004.cam2.h1.2092-12-01-10800_2098-01-20-10800.json\n"
     ]
    },
    {
     "name": "stderr",
     "output_type": "stream",
     "text": [
      "Process Process-1:\n",
      "Traceback (most recent call last):\n",
      "  File \"/home/jasperdj/miniconda3/envs/geo/lib/python3.12/multiprocessing/process.py\", line 314, in _bootstrap\n",
      "    self.run()\n",
      "  File \"/home/jasperdj/miniconda3/envs/geo/lib/python3.12/multiprocessing/process.py\", line 108, in run\n",
      "    self._target(*self._args, **self._kwargs)\n",
      "  File \"/scratch-local/jasperdj.11989298/ipykernel_1782991/2753446922.py\", line 2, in load_data3\n",
      "    ds = Cases('hres.cnt.4').select('atm','h1').open_mfdataset()\n",
      "         ^^^^^^^^^^^^^^^^^^^^^^^^^^^^^^^^^^^^^^^^^^^^^^^^^^^^^^^\n",
      "  File \"/gpfs/home2/jasperdj/TCs-under-SAI/analysis/src/load_SAIdata.py\", line 185, in open_mfdataset\n",
      "    return open_mfdataset(self.files, *args, **kwargs)\n",
      "           ^^^^^^^^^^^^^^^^^^^^^^^^^^^^^^^^^^^^^^^^^^^\n",
      "  File \"/gpfs/home2/jasperdj/TCs-under-SAI/analysis/src/load_SAIdata.py\", line 80, in open_mfdataset\n",
      "    f.write(json.dumps(mzz.translate()).encode())\n",
      "                       ^^^^^^^^^^^^^^^\n",
      "  File \"/home/jasperdj/miniconda3/envs/geo/lib/python3.12/site-packages/kerchunk/combine.py\", line 649, in translate\n",
      "    self.second_pass()\n",
      "  File \"/home/jasperdj/miniconda3/envs/geo/lib/python3.12/site-packages/kerchunk/combine.py\", line 508, in second_pass\n",
      "    cv = tuple(sorted(set(cv)))[0]\n",
      "         ~~~~~~~~~~~~~~~~~~~~~~^^^\n",
      "IndexError: tuple index out of range\n"
     ]
    }
   ],
   "source": [
    "def load_data3():        \n",
    "    ds = Cases('hres.cnt.4').select('atm','h1').open_mfdataset()\n",
    "    ds.close()\n",
    "\n",
    "proc3 = multiprocessing.Process(target=load_data3)\n",
    "proc3.start()"
   ]
  },
  {
   "cell_type": "code",
   "execution_count": 84,
   "id": "a7c70555-9cd2-4368-8fa3-4a920fec18dc",
   "metadata": {},
   "outputs": [],
   "source": [
    "os.remove('/home/jasperdj/kerchunk/b.e10.B_RCP8.5_CO2_CAM5.f02_t12.started_2092-12.004.cam2.h2.2092-12-01-10800_2098-01-20-10800.json')"
   ]
  },
  {
   "cell_type": "code",
   "execution_count": 13,
   "id": "016bdb4e-8927-466f-80c0-b790b63ce4b8",
   "metadata": {},
   "outputs": [
    {
     "name": "stdout",
     "output_type": "stream",
     "text": [
      "Writing combined kerchunk reference file /home/jasperdj/kerchunk/b.e10.B_RCP8.5_CO2_CAM5.f02_t12.started_2092-12.004.cam2.h2.2092-12-01-10800_2098-01-20-10800.json\n"
     ]
    },
    {
     "name": "stderr",
     "output_type": "stream",
     "text": [
      "Process Process-12:\n",
      "Traceback (most recent call last):\n",
      "  File \"/home/jasperdj/miniconda3/envs/geo/lib/python3.12/multiprocessing/process.py\", line 314, in _bootstrap\n",
      "    self.run()\n",
      "  File \"/home/jasperdj/miniconda3/envs/geo/lib/python3.12/multiprocessing/process.py\", line 108, in run\n",
      "    self._target(*self._args, **self._kwargs)\n",
      "  File \"/scratch-local/jasperdj.11985533/ipykernel_1563086/2372683057.py\", line 2, in load_data4\n",
      "    ds = Cases('hres.cnt.4').select('atm','h2').open_mfdataset()\n",
      "         ^^^^^^^^^^^^^^^^^^^^^^^^^^^^^^^^^^^^^^^^^^^^^^^^^^^^^^^\n",
      "  File \"/gpfs/home2/jasperdj/TCs-under-SAI/analysis/src/load_SAIdata.py\", line 185, in open_mfdataset\n",
      "    return open_mfdataset(self.files, *args, **kwargs)\n",
      "           ^^^^^^^^^^^^^^^^^^^^^^^^^^^^^^^^^^^^^^^^^^^\n",
      "  File \"/gpfs/home2/jasperdj/TCs-under-SAI/analysis/src/load_SAIdata.py\", line 80, in open_mfdataset\n",
      "    f.write(json.dumps(mzz.translate()).encode())\n",
      "                       ^^^^^^^^^^^^^^^\n",
      "  File \"/home/jasperdj/miniconda3/envs/geo/lib/python3.12/site-packages/kerchunk/combine.py\", line 649, in translate\n",
      "    self.second_pass()\n",
      "  File \"/home/jasperdj/miniconda3/envs/geo/lib/python3.12/site-packages/kerchunk/combine.py\", line 508, in second_pass\n",
      "    cv = tuple(sorted(set(cv)))[0]\n",
      "         ~~~~~~~~~~~~~~~~~~~~~~^^^\n",
      "IndexError: tuple index out of range\n"
     ]
    }
   ],
   "source": [
    "def load_data4():        \n",
    "    ds = Cases('hres.cnt.4').select('atm','h2').open_mfdataset()\n",
    "    ds.close()\n",
    "\n",
    "proc4 = multiprocessing.Process(target=load_data4)\n",
    "proc4.start()"
   ]
  },
  {
   "cell_type": "code",
   "execution_count": 85,
   "id": "b407c9ea-3f4d-4129-b811-9dc998723b65",
   "metadata": {},
   "outputs": [],
   "source": [
    "os.remove('/home/jasperdj/kerchunk/b.e10.B_RCP8.5_CO2_CAM5.f02_t12.started_2092-12.005.cam2.h1.2092-12-01-10800_2098-01-10-10800.json')"
   ]
  },
  {
   "cell_type": "code",
   "execution_count": 3,
   "id": "4a1b825c-5bc5-4c1a-a3ee-2740421f16bf",
   "metadata": {},
   "outputs": [
    {
     "name": "stdout",
     "output_type": "stream",
     "text": [
      "Writing combined kerchunk reference file /home/jasperdj/kerchunk/b.e10.B_RCP8.5_CO2_CAM5.f02_t12.started_2092-12.005.cam2.h1.2092-12-01-10800_2098-01-10-10800.json\n"
     ]
    },
    {
     "name": "stderr",
     "output_type": "stream",
     "text": [
      "Process Process-2:\n",
      "Traceback (most recent call last):\n",
      "  File \"/home/jasperdj/miniconda3/envs/geo/lib/python3.12/multiprocessing/process.py\", line 314, in _bootstrap\n",
      "    self.run()\n",
      "  File \"/home/jasperdj/miniconda3/envs/geo/lib/python3.12/multiprocessing/process.py\", line 108, in run\n",
      "    self._target(*self._args, **self._kwargs)\n",
      "  File \"/scratch-local/jasperdj.11989298/ipykernel_1782991/440555029.py\", line 2, in load_data5\n",
      "    ds = Cases('hres.cnt.5').select('atm','h1').open_mfdataset()\n",
      "         ^^^^^^^^^^^^^^^^^^^^^^^^^^^^^^^^^^^^^^^^^^^^^^^^^^^^^^^\n",
      "  File \"/gpfs/home2/jasperdj/TCs-under-SAI/analysis/src/load_SAIdata.py\", line 185, in open_mfdataset\n",
      "    return open_mfdataset(self.files, *args, **kwargs)\n",
      "           ^^^^^^^^^^^^^^^^^^^^^^^^^^^^^^^^^^^^^^^^^^^\n",
      "  File \"/gpfs/home2/jasperdj/TCs-under-SAI/analysis/src/load_SAIdata.py\", line 80, in open_mfdataset\n",
      "    f.write(json.dumps(mzz.translate()).encode())\n",
      "                       ^^^^^^^^^^^^^^^\n",
      "  File \"/home/jasperdj/miniconda3/envs/geo/lib/python3.12/site-packages/kerchunk/combine.py\", line 649, in translate\n",
      "    self.second_pass()\n",
      "  File \"/home/jasperdj/miniconda3/envs/geo/lib/python3.12/site-packages/kerchunk/combine.py\", line 508, in second_pass\n",
      "    cv = tuple(sorted(set(cv)))[0]\n",
      "         ~~~~~~~~~~~~~~~~~~~~~~^^^\n",
      "IndexError: tuple index out of range\n"
     ]
    }
   ],
   "source": [
    "def load_data5():        \n",
    "    ds = Cases('hres.cnt.5').select('atm','h1').open_mfdataset()\n",
    "    ds.close()\n",
    "\n",
    "proc5 = multiprocessing.Process(target=load_data5)\n",
    "proc5.start()"
   ]
  },
  {
   "cell_type": "code",
   "execution_count": 86,
   "id": "43a5d69c-4c39-44d4-a68c-ccb4020eab81",
   "metadata": {},
   "outputs": [],
   "source": [
    "os.remove('/home/jasperdj/kerchunk/b.e10.B_RCP8.5_CO2_CAM5.f02_t12.started_2092-12.005.cam2.h2.2092-12-01-10800_2098-01-10-10800.json')"
   ]
  },
  {
   "cell_type": "code",
   "execution_count": 4,
   "id": "18d04bde-2f46-491e-b0f5-b6059606459e",
   "metadata": {},
   "outputs": [
    {
     "name": "stdout",
     "output_type": "stream",
     "text": [
      "Writing combined kerchunk reference file /home/jasperdj/kerchunk/b.e10.B_RCP8.5_CO2_CAM5.f02_t12.started_2092-12.005.cam2.h2.2092-12-01-10800_2098-01-10-10800.json\n"
     ]
    },
    {
     "name": "stderr",
     "output_type": "stream",
     "text": [
      "Process Process-3:\n",
      "Traceback (most recent call last):\n",
      "  File \"/home/jasperdj/miniconda3/envs/geo/lib/python3.12/multiprocessing/process.py\", line 314, in _bootstrap\n",
      "    self.run()\n",
      "  File \"/home/jasperdj/miniconda3/envs/geo/lib/python3.12/multiprocessing/process.py\", line 108, in run\n",
      "    self._target(*self._args, **self._kwargs)\n",
      "  File \"/scratch-local/jasperdj.11989298/ipykernel_1782991/1716046559.py\", line 2, in load_data6\n",
      "    ds = Cases('hres.cnt.5').select('atm','h2').open_mfdataset()\n",
      "         ^^^^^^^^^^^^^^^^^^^^^^^^^^^^^^^^^^^^^^^^^^^^^^^^^^^^^^^\n",
      "  File \"/gpfs/home2/jasperdj/TCs-under-SAI/analysis/src/load_SAIdata.py\", line 185, in open_mfdataset\n",
      "    return open_mfdataset(self.files, *args, **kwargs)\n",
      "           ^^^^^^^^^^^^^^^^^^^^^^^^^^^^^^^^^^^^^^^^^^^\n",
      "  File \"/gpfs/home2/jasperdj/TCs-under-SAI/analysis/src/load_SAIdata.py\", line 80, in open_mfdataset\n",
      "    f.write(json.dumps(mzz.translate()).encode())\n",
      "                       ^^^^^^^^^^^^^^^\n",
      "  File \"/home/jasperdj/miniconda3/envs/geo/lib/python3.12/site-packages/kerchunk/combine.py\", line 649, in translate\n",
      "    self.second_pass()\n",
      "  File \"/home/jasperdj/miniconda3/envs/geo/lib/python3.12/site-packages/kerchunk/combine.py\", line 508, in second_pass\n",
      "    cv = tuple(sorted(set(cv)))[0]\n",
      "         ~~~~~~~~~~~~~~~~~~~~~~^^^\n",
      "IndexError: tuple index out of range\n"
     ]
    }
   ],
   "source": [
    "def load_data6():        \n",
    "    ds = Cases('hres.cnt.5').select('atm','h2').open_mfdataset()\n",
    "    ds.close()\n",
    "\n",
    "proc6 = multiprocessing.Process(target=load_data6)\n",
    "proc6.start()"
   ]
  },
  {
   "cell_type": "code",
   "execution_count": 95,
   "id": "94bceec5-174d-4e14-9abb-458a51515128",
   "metadata": {},
   "outputs": [],
   "source": [
    "os.remove('/home/jasperdj/kerchunk/lres_b.e10.B2000_CAM5.f09_g16.feedforward_2050.001.cam2.h2.2000-01-01-00000_2099-01-01-00000.json')"
   ]
  },
  {
   "cell_type": "code",
   "execution_count": 58,
   "id": "bf3250da-b97a-43dd-b1db-8f9ee9d8de78",
   "metadata": {},
   "outputs": [
    {
     "name": "stdout",
     "output_type": "stream",
     "text": [
      "Writing combined kerchunk reference file /home/jasperdj/kerchunk/lres_b.e10.B2000_CAM5.f09_g16.feedforward_2050.001.cam2.h2.2000-01-01-00000_2099-01-01-00000.json\n"
     ]
    }
   ],
   "source": [
    "def load_data9():        \n",
    "    ds = Cases('lres.sai').select('atm','h2').open_mfdataset()\n",
    "    ds.close()\n",
    "\n",
    "proc9 = multiprocessing.Process(target=load_data9)\n",
    "proc9.start()"
   ]
  },
  {
   "cell_type": "code",
   "execution_count": 96,
   "id": "906ac485-3b4d-4459-b7b1-6b60d214227d",
   "metadata": {},
   "outputs": [],
   "source": [
    "os.remove('/home/jasperdj/kerchunk/lres_b.e10.B2000_CAM5.f09_g16.feedforward_2050.001.cam2.h3.2000-01-01-00000_2099-01-01-00000.json')"
   ]
  },
  {
   "cell_type": "code",
   "execution_count": 59,
   "id": "5f124cf1-4023-458d-8740-189bf331b695",
   "metadata": {},
   "outputs": [
    {
     "name": "stdout",
     "output_type": "stream",
     "text": [
      "Writing combined kerchunk reference file /home/jasperdj/kerchunk/lres_b.e10.B2000_CAM5.f09_g16.feedforward_2050.001.cam2.h3.2000-01-01-00000_2099-01-01-00000.json\n"
     ]
    }
   ],
   "source": [
    "def load_data10():        \n",
    "    ds = Cases('lres.sai').select('atm','h3').open_mfdataset()\n",
    "    ds.close()\n",
    "\n",
    "proc10 = multiprocessing.Process(target=load_data10)\n",
    "proc10.start()"
   ]
  },
  {
   "cell_type": "code",
   "execution_count": 97,
   "id": "41a5ebf0-c2c7-4778-89f8-d6d93bffaaa8",
   "metadata": {},
   "outputs": [],
   "source": [
    "os.remove('/home/jasperdj/kerchunk/lres_b.e10.B2000_CAM5.f09_g16.feedforward_2050.001.cam2.h4.2000-01-01-00000_2099-01-01-00000.json')"
   ]
  },
  {
   "cell_type": "code",
   "execution_count": 60,
   "id": "c2bdf193-53e9-4e83-a4b4-d6e1865ae339",
   "metadata": {},
   "outputs": [
    {
     "name": "stdout",
     "output_type": "stream",
     "text": [
      "Writing combined kerchunk reference file /home/jasperdj/kerchunk/lres_b.e10.B2000_CAM5.f09_g16.feedforward_2050.001.cam2.h4.2000-01-01-00000_2099-01-01-00000.json\n"
     ]
    }
   ],
   "source": [
    "def load_data11():        \n",
    "    ds = Cases('lres.sai').select('atm','h4').open_mfdataset()\n",
    "    ds.close()\n",
    "\n",
    "proc11 = multiprocessing.Process(target=load_data11)\n",
    "proc11.start()"
   ]
  },
  {
   "cell_type": "code",
   "execution_count": null,
   "id": "1f377e59-969d-43d0-a788-d3e79f07a770",
   "metadata": {},
   "outputs": [],
   "source": []
  }
 ],
 "metadata": {
  "kernelspec": {
   "display_name": "geo",
   "language": "python",
   "name": "geo"
  },
  "language_info": {
   "codemirror_mode": {
    "name": "ipython",
    "version": 3
   },
   "file_extension": ".py",
   "mimetype": "text/x-python",
   "name": "python",
   "nbconvert_exporter": "python",
   "pygments_lexer": "ipython3",
   "version": "3.12.2"
  }
 },
 "nbformat": 4,
 "nbformat_minor": 5
}
